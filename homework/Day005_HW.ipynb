{
 "cells": [
  {
   "cell_type": "markdown",
   "metadata": {},
   "source": [
    "# API 資料串接 - 以 Dcard API 實作範例\n",
    "\n",
    "* 利用 urllib 套件的 urlretrieve 方法下載檔案\n",
    "* 了解 Python File I/O 讀檔、寫檔的用法\n",
    "* 能用運用資源管理器 With Statement 優化寫法"
   ]
  },
  {
   "cell_type": "markdown",
   "metadata": {},
   "source": [
    "## 作業目標\n",
    "\n",
    "* 請利用 API: https://www.dcard.tw/_api/forums/pet/posts?popular=true 回答下列問題：\n",
    "\n",
    "1. 這個 API 一次會回傳幾筆資料？每一筆資料包含哪些欄位？\n",
    "2. 取出每一筆資料的「標題」、「貼文時間」、「留言人數」、「按讚人數」\n",
    "3. 計算熱門/非熱門文章的「平均留言人數」與「平均按讚人數」"
   ]
  },
  {
   "cell_type": "code",
   "execution_count": 1,
   "metadata": {},
   "outputs": [],
   "source": [
    "import requests\n",
    "import json"
   ]
  },
  {
   "cell_type": "code",
   "execution_count": 2,
   "metadata": {},
   "outputs": [],
   "source": [
    "url = 'https://www.dcard.tw/_api/forums/pet/posts?popular=true'"
   ]
  },
  {
   "cell_type": "code",
   "execution_count": 3,
   "metadata": {},
   "outputs": [
    {
     "name": "stdout",
     "output_type": "stream",
     "text": [
      "筆數: 30\n",
      "欄位: dict_keys(['id', 'title', 'excerpt', 'anonymousSchool', 'anonymousDepartment', 'pinned', 'forumId', 'replyId', 'createdAt', 'updatedAt', 'commentCount', 'likeCount', 'withNickname', 'tags', 'topics', 'meta', 'forumName', 'forumAlias', 'gender', 'school', 'department', 'replyTitle', 'mediaMeta', 'reactions', 'hidden', 'customStyle', 'isSuspiciousAccount', 'layout', 'withImages', 'withVideos', 'media', 'reportReasonText', 'postAvatar'])\n"
     ]
    }
   ],
   "source": [
    "# 1. 這個 API 一次會回傳幾筆資料？每一筆資料包含哪些欄位？\n",
    "\n",
    "'''\n",
    "Your Code\n",
    "'''\n",
    "r = requests.get(url)\n",
    "data = json.loads(r.text)\n",
    "print(f'筆數: {len(data)}')\n",
    "print(f'欄位: {data[0].keys()}')"
   ]
  },
  {
   "cell_type": "code",
   "execution_count": 4,
   "metadata": {},
   "outputs": [
    {
     "name": "stdout",
     "output_type": "stream",
     "text": [
      "標題: 我家的貓每天睡覺前一定會做的事, 貼文時間: 2019-11-30T06:52:29.882Z, 留言人數: 137, 按讚人數: 4580\n",
      "標題: 被擠床原來是一件幸福的事, 貼文時間: 2019-11-30T04:15:42.699Z, 留言人數: 24, 按讚人數: 1751\n",
      "標題: #哈士奇 滿一歲啦 文長 滿滿的二哈, 貼文時間: 2019-11-30T16:30:51.154Z, 留言人數: 25, 按讚人數: 969\n",
      "標題: 媽 晚餐好了沒, 貼文時間: 2019-11-30T10:42:58.582Z, 留言人數: 5, 按讚人數: 695\n",
      "標題: 有人要吸兔嗎？, 貼文時間: 2019-11-30T04:58:10.195Z, 留言人數: 42, 按讚人數: 324\n",
      "標題: 原來柴犬可以那麽可愛🐕, 貼文時間: 2019-11-30T17:17:51.628Z, 留言人數: 2, 按讚人數: 79\n",
      "標題: 你到底是貓還是狗？, 貼文時間: 2019-11-30T14:32:06.500Z, 留言人數: 11, 按讚人數: 79\n",
      "標題: 好像買太小了..., 貼文時間: 2019-12-01T08:27:28.504Z, 留言人數: 5, 按讚人數: 64\n",
      "標題: 我養的是工讀生？🤔, 貼文時間: 2019-12-01T02:07:09.729Z, 留言人數: 6, 按讚人數: 58\n",
      "標題: 白圍巾白手套橘貓❤️, 貼文時間: 2019-11-30T07:44:14.420Z, 留言人數: 6, 按讚人數: 55\n",
      "標題: 四個月的布偶屁貓, 貼文時間: 2019-11-30T11:24:26.047Z, 留言人數: 2, 按讚人數: 48\n",
      "標題: 從沒想過山竹可以這麼可口ฅ, 貼文時間: 2019-11-30T10:24:08.529Z, 留言人數: 6, 按讚人數: 35\n",
      "標題: #柴 #影片 到底有多討厭洗澡, 貼文時間: 2019-11-30T03:24:55.897Z, 留言人數: 1, 按讚人數: 32\n",
      "標題: 如果當初這樣做 或許結局就能不同了吧, 貼文時間: 2019-12-01T00:49:18.221Z, 留言人數: 0, 按讚人數: 27\n",
      "標題: 我不是貓 我是兔子, 貼文時間: 2019-11-30T11:16:53.115Z, 留言人數: 1, 按讚人數: 27\n",
      "標題: 自嗨小橘貓, 貼文時間: 2019-11-30T20:21:16.782Z, 留言人數: 1, 按讚人數: 24\n",
      "標題: 小寶貝, 貼文時間: 2019-11-30T16:01:13.979Z, 留言人數: 0, 按讚人數: 23\n",
      "標題: 你一定要這樣厭世嗎, 貼文時間: 2019-11-30T13:05:07.439Z, 留言人數: 1, 按讚人數: 23\n",
      "標題: 就算之後天天吃泡麵也要救活妳, 貼文時間: 2019-11-30T11:59:28.473Z, 留言人數: 0, 按讚人數: 22\n",
      "標題: #貓咪 十隻白貓九隻胖, 貼文時間: 2019-11-30T15:24:46.075Z, 留言人數: 6, 按讚人數: 21\n",
      "標題: #貓 #影 #圖 不只慢半拍ㄉ音癡（？, 貼文時間: 2019-11-30T08:14:35.514Z, 留言人數: 2, 按讚人數: 21\n",
      "標題: 我家阿咪的特技, 貼文時間: 2019-11-30T18:43:59.640Z, 留言人數: 4, 按讚人數: 17\n",
      "標題: 我家貓咪真可愛♥️♥️, 貼文時間: 2019-11-30T06:31:53.631Z, 留言人數: 6, 按讚人數: 14\n",
      "標題: 請問⋯妳是在哈囉？, 貼文時間: 2019-11-30T19:16:39.494Z, 留言人數: 2, 按讚人數: 13\n",
      "標題: 急尋愛貓一隻🙏🙏, 貼文時間: 2019-11-30T13:31:14.399Z, 留言人數: 2, 按讚人數: 13\n",
      "標題: 貓咪沒在尊重男友, 貼文時間: 2019-12-01T10:44:13.896Z, 留言人數: 3, 按讚人數: 11\n",
      "標題: 一隻會傳球的貓, 貼文時間: 2019-11-30T18:36:38.485Z, 留言人數: 0, 按讚人數: 11\n",
      "標題: 寵物過世碰到的外套, 貼文時間: 2019-12-01T09:23:54.879Z, 留言人數: 3, 按讚人數: 10\n",
      "標題: #圖多 可愛喵喵們(⁎⁍̴̛ᴗ⁍̴̛⁎), 貼文時間: 2019-12-01T08:44:25.791Z, 留言人數: 1, 按讚人數: 10\n",
      "標題: 虎爺公的細漢欸（小弟）, 貼文時間: 2019-11-30T19:16:31.808Z, 留言人數: 0, 按讚人數: 10\n"
     ]
    }
   ],
   "source": [
    "# 2. 取出每一筆資料的「標題」、「貼文時間」、「留言人數」、「按讚人數」\n",
    "\n",
    "'''\n",
    "Your Code\n",
    "'''\n",
    "for i in range(len(data)):\n",
    "    print(f'標題: {data[i][\"title\"]}, 貼文時間: {data[i][\"createdAt\"]}, 留言人數: {data[i][\"commentCount\"]}, 按讚人數: {data[i][\"likeCount\"]}')"
   ]
  },
  {
   "cell_type": "code",
   "execution_count": 5,
   "metadata": {},
   "outputs": [],
   "source": [
    "# 3. 計算熱門/非熱門文章的「平均留言人數」與「平均按讚人數」\n",
    "\n",
    "'''\n",
    "Your Code\n",
    "'''\n",
    "import numpy as np\n",
    "url = 'https://www.dcard.tw/_api/forums/pet/posts?popular=false'\n",
    "r = requests.get(url)\n",
    "data_nonpop = json.loads(r.text)"
   ]
  },
  {
   "cell_type": "code",
   "execution_count": 6,
   "metadata": {},
   "outputs": [
    {
     "name": "stdout",
     "output_type": "stream",
     "text": [
      "熱門文章\n",
      "平均留言人數: 10.133333333333333\n",
      "平均按讚人數: 302.2\n",
      "非熱門文章\n",
      "平均留言人數: 1.5666666666666667\n",
      "平均按讚人數: 5.7\n"
     ]
    }
   ],
   "source": [
    "comment_mean = np.mean(list(map(lambda x: x[\"commentCount\"], data)))\n",
    "like_mean = np.mean(list(map(lambda x: x[\"likeCount\"], data)))\n",
    "print('熱門文章')\n",
    "print(f'平均留言人數: {comment_mean}')\n",
    "print(f'平均按讚人數: {like_mean}')\n",
    "comment_mean = np.mean(list(map(lambda x: x[\"commentCount\"], data_nonpop)))\n",
    "like_mean = np.mean(list(map(lambda x: x[\"likeCount\"], data_nonpop)))\n",
    "print('非熱門文章')\n",
    "print(f'平均留言人數: {comment_mean}')\n",
    "print(f'平均按讚人數: {like_mean}')"
   ]
  }
 ],
 "metadata": {
  "kernelspec": {
   "display_name": "Python 3",
   "language": "python",
   "name": "python3"
  },
  "language_info": {
   "codemirror_mode": {
    "name": "ipython",
    "version": 3
   },
   "file_extension": ".py",
   "mimetype": "text/x-python",
   "name": "python",
   "nbconvert_exporter": "python",
   "pygments_lexer": "ipython3",
   "version": "3.7.2"
  }
 },
 "nbformat": 4,
 "nbformat_minor": 2
}
