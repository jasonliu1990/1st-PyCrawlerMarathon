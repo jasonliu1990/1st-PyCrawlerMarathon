{
 "cells": [
  {
   "cell_type": "markdown",
   "metadata": {},
   "source": [
    "# PTT 網路爬蟲實作練習\n",
    "\n",
    "\n",
    "* 能夠利用 Request + BeatifulSour 撰寫爬蟲，並存放到合適的資料結構\n"
   ]
  },
  {
   "cell_type": "markdown",
   "metadata": {},
   "source": [
    "## 作業目標\n",
    "\n",
    "根據範例 ，完成以下問題：\n",
    "\n",
    "* ① 印出最新文章的「作者」「標題」「時間」\n",
    "* ② 印出第一頁所有文章的「作者」「標題」「時間」\n"
   ]
  },
  {
   "cell_type": "code",
   "execution_count": 22,
   "metadata": {},
   "outputs": [],
   "source": [
    "import requests\n",
    "from bs4 import BeautifulSoup\n",
    "import pandas as pd"
   ]
  },
  {
   "cell_type": "code",
   "execution_count": 2,
   "metadata": {},
   "outputs": [],
   "source": [
    "url = 'https://www.ptt.cc/bbs/NBA/index.html'\n",
    "r = requests.get(url)"
   ]
  },
  {
   "cell_type": "code",
   "execution_count": 4,
   "metadata": {},
   "outputs": [],
   "source": [
    "soup = BeautifulSoup(r.text, \"html.parser\")"
   ]
  },
  {
   "cell_type": "code",
   "execution_count": 5,
   "metadata": {},
   "outputs": [
    {
     "name": "stdout",
     "output_type": "stream",
     "text": [
      "[討論] 本季到目前最讓你另眼相看的球員\n",
      "[討論] BG跟Love是不是溢價PF難兄難弟\n",
      "Re: [情報] Doncic想重現Wade和James經典灌籃照\n",
      "[討論] 吉米巴特勒的成就是不是已經超越玫瑰了\n",
      "Re: [討論] 吉米巴特勒的成就是不是已經超越玫瑰了\n",
      "[新聞] 唐西奇等人西班牙語也通 獨行俠猛圈粉拉\n",
      "[公告] 板規v6.6\n",
      "[公告] 樂透取消及未來不再開啟樂透\n",
      "[公告] 版主上任相關事項 \n",
      "[情報] SEASON Schedule 賽程 December 19–20\n",
      "[公告]是否禁止basketball top 5文章投票開始 \n"
     ]
    }
   ],
   "source": [
    "for d in soup.find_all(class_=\"title\"):\n",
    "    print(d.text.replace('\\t', '').replace('\\n', ''))\n",
    "    try:\n",
    "        r = BeautifulSoup(requests.get('https://www.ptt.cc'+d.find('a')['href']).text, \"html5lib\")\n",
    "        print('作者: ' + r.find(class_='article-meta-value').text)\n",
    "    except:\n",
    "        continue\n"
   ]
  },
  {
   "cell_type": "markdown",
   "metadata": {},
   "source": [
    "### ① 印出最新文章的「作者」「標題」「時間」"
   ]
  },
  {
   "cell_type": "code",
   "execution_count": 18,
   "metadata": {},
   "outputs": [],
   "source": [
    "author_list = list(map(lambda x: x.text, soup.select('.author')))\n",
    "title_list = list(map(lambda x: x.text, soup.select('.title a')))\n",
    "date_list = list(map(lambda x: x.text, soup.select('.date')))"
   ]
  },
  {
   "cell_type": "code",
   "execution_count": 19,
   "metadata": {},
   "outputs": [
    {
     "name": "stdout",
     "output_type": "stream",
     "text": [
      "la1aco [討論] 本季到目前最讓你另眼相看的球員 12/14\n"
     ]
    }
   ],
   "source": [
    "'''\n",
    "Your Code\n",
    "'''\n",
    "print(author_list[0], title_list[0], date_list[0])"
   ]
  },
  {
   "cell_type": "markdown",
   "metadata": {},
   "source": [
    "### ② 印出第一頁所有文章的「作者」「標題」「時間」"
   ]
  },
  {
   "cell_type": "code",
   "execution_count": 17,
   "metadata": {},
   "outputs": [
    {
     "name": "stdout",
     "output_type": "stream",
     "text": [
      "la1aco [討論] 本季到目前最讓你另眼相看的球員 12/14\n",
      "arx55522 [討論] BG跟Love是不是溢價PF難兄難弟 12/14\n",
      "GOBS Re: [情報] Doncic想重現Wade和James經典灌籃照 12/14\n",
      "forwardgo [討論] 吉米巴特勒的成就是不是已經超越玫瑰了 12/14\n",
      "sam369 Re: [討論] 吉米巴特勒的成就是不是已經超越玫瑰了 12/14\n",
      "Yui5 [新聞] 唐西奇等人西班牙語也通 獨行俠猛圈粉拉 12/14\n",
      "Vedan [公告] 板規v6.6  5/24\n",
      "Vedan [公告] 樂透取消及未來不再開啟樂透  6/24\n",
      "qazwsx879345 [公告] 版主上任相關事項  10/25\n",
      "JerroLi [情報] SEASON Schedule 賽程 December 19–20 11/29\n",
      "dragon803 [公告]是否禁止basketball top 5文章投票開始  12/08\n"
     ]
    }
   ],
   "source": [
    "'''\n",
    "Your Code\n",
    "'''\n",
    "for a, t, d in zip(author_list, title_list, date_list):\n",
    "    print(a, t, d)"
   ]
  },
  {
   "cell_type": "markdown",
   "metadata": {},
   "source": [
    "### ③ 試著爬爬看其他版的文章"
   ]
  },
  {
   "cell_type": "code",
   "execution_count": 31,
   "metadata": {},
   "outputs": [],
   "source": [
    "'''\n",
    "Your Code\n",
    "'''\n",
    "gossiping_url = 'https://www.ptt.cc/bbs/Gossiping/index.html'\n",
    "r = requests.get(gossiping_url)\n",
    "soup = BeautifulSoup(r.text, 'html.parser')"
   ]
  },
  {
   "cell_type": "code",
   "execution_count": 36,
   "metadata": {},
   "outputs": [
    {
     "data": {
      "text/plain": [
       "<!DOCTYPE html>\n",
       "\n",
       "<html>\n",
       "<head>\n",
       "<meta charset=\"utf-8\"/>\n",
       "<meta content=\"width=device-width, initial-scale=1\" name=\"viewport\"/>\n",
       "<title>批踢踢實業坊</title>\n",
       "<link href=\"//images.ptt.cc/bbs/v2.27/bbs-common.css\" rel=\"stylesheet\" type=\"text/css\"/>\n",
       "<link href=\"//images.ptt.cc/bbs/v2.27/bbs-base.css\" media=\"screen\" rel=\"stylesheet\" type=\"text/css\"/>\n",
       "<link href=\"//images.ptt.cc/bbs/v2.27/bbs-custom.css\" rel=\"stylesheet\" type=\"text/css\"/>\n",
       "<link href=\"//images.ptt.cc/bbs/v2.27/pushstream.css\" media=\"screen\" rel=\"stylesheet\" type=\"text/css\"/>\n",
       "<link href=\"//images.ptt.cc/bbs/v2.27/bbs-print.css\" media=\"print\" rel=\"stylesheet\" type=\"text/css\"/>\n",
       "</head>\n",
       "<body>\n",
       "<div class=\"bbs-screen bbs-content\">\n",
       "<div class=\"over18-notice\">\n",
       "<p>本網站已依網站內容分級規定處理</p>\n",
       "<p>警告︰您即將進入之看板內容需滿十八歲方可瀏覽。</p>\n",
       "<p>若您尚未年滿十八歲，請點選離開。若您已滿十八歲，亦不可將本區之內容派發、傳閱、出售、出租、交給或借予年齡未滿18歲的人士瀏覽，或將本網站內容向該人士出示、播放或放映。</p>\n",
       "</div>\n",
       "</div>\n",
       "<div class=\"bbs-screen bbs-content center clear\">\n",
       "<form action=\"/ask/over18\" method=\"post\">\n",
       "<input name=\"from\" type=\"hidden\" value=\"/bbs/Gossiping/index.html\"/>\n",
       "<div class=\"over18-button-container\">\n",
       "<button class=\"btn-big\" name=\"yes\" type=\"submit\" value=\"yes\">我同意，我已年滿十八歲<br/><small>進入</small></button>\n",
       "</div>\n",
       "<div class=\"over18-button-container\">\n",
       "<button class=\"btn-big\" name=\"no\" type=\"submit\" value=\"no\">未滿十八歲或不同意本條款<br/><small>離開</small></button>\n",
       "</div>\n",
       "</form>\n",
       "</div>\n",
       "<script>\n",
       "  (function(i,s,o,g,r,a,m){i['GoogleAnalyticsObject']=r;i[r]=i[r]||function(){\n",
       "  (i[r].q=i[r].q||[]).push(arguments)},i[r].l=1*new Date();a=s.createElement(o),\n",
       "  m=s.getElementsByTagName(o)[0];a.async=1;a.src=g;m.parentNode.insertBefore(a,m)\n",
       "  })(window,document,'script','https://www.google-analytics.com/analytics.js','ga');\n",
       "\n",
       "  ga('create', 'UA-32365737-1', {\n",
       "    cookieDomain: 'ptt.cc',\n",
       "    legacyCookieDomain: 'ptt.cc'\n",
       "  });\n",
       "  ga('send', 'pageview');\n",
       "</script>\n",
       "<script src=\"//ajax.googleapis.com/ajax/libs/jquery/2.1.1/jquery.min.js\"></script>\n",
       "<script src=\"//images.ptt.cc/bbs/v2.27/bbs.js\"></script>\n",
       "</body>\n",
       "</html>"
      ]
     },
     "execution_count": 36,
     "metadata": {},
     "output_type": "execute_result"
    }
   ],
   "source": [
    "soup"
   ]
  },
  {
   "cell_type": "code",
   "execution_count": 32,
   "metadata": {},
   "outputs": [],
   "source": [
    "author_list = list(map(lambda x: x.text, soup.select('.author')))\n",
    "title_list = list(map(lambda x: x.text, soup.select('.title a')))\n",
    "date_list = list(map(lambda x: x.text, soup.select('.date')))"
   ]
  },
  {
   "cell_type": "code",
   "execution_count": 33,
   "metadata": {},
   "outputs": [
    {
     "data": {
      "text/html": [
       "<div>\n",
       "<style scoped>\n",
       "    .dataframe tbody tr th:only-of-type {\n",
       "        vertical-align: middle;\n",
       "    }\n",
       "\n",
       "    .dataframe tbody tr th {\n",
       "        vertical-align: top;\n",
       "    }\n",
       "\n",
       "    .dataframe thead th {\n",
       "        text-align: right;\n",
       "    }\n",
       "</style>\n",
       "<table border=\"1\" class=\"dataframe\">\n",
       "  <thead>\n",
       "    <tr style=\"text-align: right;\">\n",
       "      <th></th>\n",
       "      <th>author</th>\n",
       "      <th>title</th>\n",
       "      <th>date</th>\n",
       "    </tr>\n",
       "  </thead>\n",
       "  <tbody>\n",
       "  </tbody>\n",
       "</table>\n",
       "</div>"
      ],
      "text/plain": [
       "Empty DataFrame\n",
       "Columns: [author, title, date]\n",
       "Index: []"
      ]
     },
     "execution_count": 33,
     "metadata": {},
     "output_type": "execute_result"
    }
   ],
   "source": [
    "gossiping_df = pd.DataFrame({'author': author_list,\n",
    "                             'title': title_list,\n",
    "                             'date': date_list})\n",
    "gossiping_df"
   ]
  },
  {
   "cell_type": "code",
   "execution_count": null,
   "metadata": {},
   "outputs": [],
   "source": []
  },
  {
   "cell_type": "code",
   "execution_count": null,
   "metadata": {},
   "outputs": [],
   "source": []
  }
 ],
 "metadata": {
  "kernelspec": {
   "display_name": "'pyscraper'",
   "language": "python",
   "name": "pyscraper"
  },
  "language_info": {
   "codemirror_mode": {
    "name": "ipython",
    "version": 3
   },
   "file_extension": ".py",
   "mimetype": "text/x-python",
   "name": "python",
   "nbconvert_exporter": "python",
   "pygments_lexer": "ipython3",
   "version": "3.7.3"
  }
 },
 "nbformat": 4,
 "nbformat_minor": 2
}
