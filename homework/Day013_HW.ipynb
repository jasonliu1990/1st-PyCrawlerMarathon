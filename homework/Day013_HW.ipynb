{
 "cells": [
  {
   "cell_type": "markdown",
   "metadata": {},
   "source": [
    "# PTT 網路爬蟲實作練習\n",
    "\n",
    "\n",
    "* 能夠利用 Request + BeatifulSour 撰寫爬蟲，並存放到合適的資料結構\n"
   ]
  },
  {
   "cell_type": "markdown",
   "metadata": {},
   "source": [
    "## 作業目標\n",
    "\n",
    "根據範例 ，完成以下問題：\n",
    "\n",
    "* ① 印出最新文章的「作者」「標題」「時間」\n",
    "* ② 印出第一頁所有文章的「作者」「標題」「時間」\n"
   ]
  },
  {
   "cell_type": "code",
   "execution_count": 1,
   "metadata": {},
   "outputs": [],
   "source": [
    "import requests\n",
    "from bs4 import BeautifulSoup\n",
    "import pandas as pd"
   ]
  },
  {
   "cell_type": "code",
   "execution_count": 2,
   "metadata": {},
   "outputs": [],
   "source": [
    "url = 'https://www.ptt.cc/bbs/NBA/index.html'\n",
    "r = requests.get(url)"
   ]
  },
  {
   "cell_type": "code",
   "execution_count": 3,
   "metadata": {},
   "outputs": [],
   "source": [
    "soup = BeautifulSoup(r.text, \"html.parser\")"
   ]
  },
  {
   "cell_type": "code",
   "execution_count": 4,
   "metadata": {},
   "outputs": [
    {
     "name": "stdout",
     "output_type": "stream",
     "text": [
      "[討論] 本季到目前最讓你另眼相看的球員\n",
      "[討論] BG跟Love是不是溢價PF難兄難弟\n",
      "Re: [情報] Doncic想重現Wade和James經典灌籃照\n",
      "[討論] 吉米巴特勒的成就是不是已經超越玫瑰了\n",
      "Re: [討論] 吉米巴特勒的成就是不是已經超越玫瑰了\n",
      "[新聞] 唐西奇等人西班牙語也通 獨行俠猛圈粉拉\n",
      "[公告] 板規v6.6\n",
      "[公告] 樂透取消及未來不再開啟樂透\n",
      "[公告] 版主上任相關事項 \n",
      "[情報] SEASON Schedule 賽程 December 19–20\n",
      "[公告]是否禁止basketball top 5文章投票開始 \n"
     ]
    }
   ],
   "source": [
    "for d in soup.find_all(class_=\"title\"):\n",
    "    print(d.text.replace('\\t', '').replace('\\n', ''))\n",
    "    try:\n",
    "        r = BeautifulSoup(requests.get('https://www.ptt.cc'+d.find('a')['href']).text, \"html5lib\")\n",
    "        print('作者: ' + r.find(class_='article-meta-value').text)\n",
    "    except:\n",
    "        continue\n"
   ]
  },
  {
   "cell_type": "markdown",
   "metadata": {},
   "source": [
    "### ① 印出最新文章的「作者」「標題」「時間」"
   ]
  },
  {
   "cell_type": "code",
   "execution_count": 5,
   "metadata": {},
   "outputs": [],
   "source": [
    "author_list = list(map(lambda x: x.text, soup.select('.author')))\n",
    "title_list = list(map(lambda x: x.text, soup.select('.title a')))\n",
    "date_list = list(map(lambda x: x.text, soup.select('.date')))"
   ]
  },
  {
   "cell_type": "code",
   "execution_count": 6,
   "metadata": {},
   "outputs": [
    {
     "name": "stdout",
     "output_type": "stream",
     "text": [
      "la1aco [討論] 本季到目前最讓你另眼相看的球員 12/14\n"
     ]
    }
   ],
   "source": [
    "'''\n",
    "Your Code\n",
    "'''\n",
    "print(author_list[0], title_list[0], date_list[0])"
   ]
  },
  {
   "cell_type": "markdown",
   "metadata": {},
   "source": [
    "### ② 印出第一頁所有文章的「作者」「標題」「時間」"
   ]
  },
  {
   "cell_type": "code",
   "execution_count": 7,
   "metadata": {},
   "outputs": [
    {
     "name": "stdout",
     "output_type": "stream",
     "text": [
      "la1aco [討論] 本季到目前最讓你另眼相看的球員 12/14\n",
      "arx55522 [討論] BG跟Love是不是溢價PF難兄難弟 12/14\n",
      "GOBS Re: [情報] Doncic想重現Wade和James經典灌籃照 12/14\n",
      "forwardgo [討論] 吉米巴特勒的成就是不是已經超越玫瑰了 12/14\n",
      "sam369 Re: [討論] 吉米巴特勒的成就是不是已經超越玫瑰了 12/14\n",
      "Yui5 [新聞] 唐西奇等人西班牙語也通 獨行俠猛圈粉拉 12/14\n",
      "Vedan [公告] 板規v6.6  5/24\n",
      "Vedan [公告] 樂透取消及未來不再開啟樂透  6/24\n",
      "qazwsx879345 [公告] 版主上任相關事項  10/25\n",
      "JerroLi [情報] SEASON Schedule 賽程 December 19–20 11/29\n",
      "dragon803 [公告]是否禁止basketball top 5文章投票開始  12/08\n"
     ]
    }
   ],
   "source": [
    "'''\n",
    "Your Code\n",
    "'''\n",
    "for a, t, d in zip(author_list, title_list, date_list):\n",
    "    print(a, t, d)"
   ]
  },
  {
   "cell_type": "markdown",
   "metadata": {},
   "source": [
    "### ③ 試著爬爬看其他版的文章"
   ]
  },
  {
   "cell_type": "code",
   "execution_count": 8,
   "metadata": {},
   "outputs": [],
   "source": [
    "'''\n",
    "Your Code\n",
    "'''\n",
    "gossiping_url = 'https://www.ptt.cc/bbs/Gossiping/index.html'\n",
    "r = requests.get(gossiping_url, cookies={'over18': '1'})\n",
    "soup = BeautifulSoup(r.text, 'html.parser')"
   ]
  },
  {
   "cell_type": "code",
   "execution_count": 9,
   "metadata": {},
   "outputs": [],
   "source": [
    "author_list = list(map(lambda x: x.text, soup.select('.author')))\n",
    "title_list = list(map(lambda x: x.text, soup.select('.title a')))\n",
    "date_list = list(map(lambda x: x.text, soup.select('.date')))"
   ]
  },
  {
   "cell_type": "code",
   "execution_count": 10,
   "metadata": {},
   "outputs": [
    {
     "data": {
      "text/html": [
       "<div>\n",
       "<style scoped>\n",
       "    .dataframe tbody tr th:only-of-type {\n",
       "        vertical-align: middle;\n",
       "    }\n",
       "\n",
       "    .dataframe tbody tr th {\n",
       "        vertical-align: top;\n",
       "    }\n",
       "\n",
       "    .dataframe thead th {\n",
       "        text-align: right;\n",
       "    }\n",
       "</style>\n",
       "<table border=\"1\" class=\"dataframe\">\n",
       "  <thead>\n",
       "    <tr style=\"text-align: right;\">\n",
       "      <th></th>\n",
       "      <th>author</th>\n",
       "      <th>title</th>\n",
       "      <th>date</th>\n",
       "    </tr>\n",
       "  </thead>\n",
       "  <tbody>\n",
       "    <tr>\n",
       "      <th>0</th>\n",
       "      <td>otoboku</td>\n",
       "      <td>[問卦] 台灣人怎麼會想過耶誕節？</td>\n",
       "      <td>12/14</td>\n",
       "    </tr>\n",
       "    <tr>\n",
       "      <th>1</th>\n",
       "      <td>foreverthink</td>\n",
       "      <td>Re: [新聞] 民進黨稱「高雄人對不起台灣」 蔡英文也曾</td>\n",
       "      <td>12/14</td>\n",
       "    </tr>\n",
       "    <tr>\n",
       "      <th>2</th>\n",
       "      <td>q2203649</td>\n",
       "      <td>[問卦] 大家會覺得自己對不起老師嗎？</td>\n",
       "      <td>12/14</td>\n",
       "    </tr>\n",
       "    <tr>\n",
       "      <th>3</th>\n",
       "      <td>GOD5566GOD</td>\n",
       "      <td>[問卦] 當兵幾點起來折棉被才專業?</td>\n",
       "      <td>12/14</td>\n",
       "    </tr>\n",
       "    <tr>\n",
       "      <th>4</th>\n",
       "      <td>fanecerce</td>\n",
       "      <td>[問卦] 這鬼東西叫甚麼</td>\n",
       "      <td>12/14</td>\n",
       "    </tr>\n",
       "    <tr>\n",
       "      <th>5</th>\n",
       "      <td>mithralin</td>\n",
       "      <td>[新聞] 厄齊爾控中國迫害維吾爾 兵工廠仿NBA火箭</td>\n",
       "      <td>12/14</td>\n",
       "    </tr>\n",
       "    <tr>\n",
       "      <th>6</th>\n",
       "      <td>lauwei</td>\n",
       "      <td>[問卦] 吃飯幫大家剝蝦錯了嗎？</td>\n",
       "      <td>12/14</td>\n",
       "    </tr>\n",
       "    <tr>\n",
       "      <th>7</th>\n",
       "      <td>gaiaesque</td>\n",
       "      <td>[問卦] 有肥宅在聽deep house嗎? o'_'o</td>\n",
       "      <td>12/14</td>\n",
       "    </tr>\n",
       "    <tr>\n",
       "      <th>8</th>\n",
       "      <td>andrewkuo</td>\n",
       "      <td>[問卦] 有網軍在做圖片時,都不事先球證的卦嗎?</td>\n",
       "      <td>12/14</td>\n",
       "    </tr>\n",
       "    <tr>\n",
       "      <th>9</th>\n",
       "      <td>iamhyaline</td>\n",
       "      <td>[問卦] 這是哪個教堂</td>\n",
       "      <td>12/14</td>\n",
       "    </tr>\n",
       "    <tr>\n",
       "      <th>10</th>\n",
       "      <td>akuan413</td>\n",
       "      <td>[新聞]林靜儀出席爆桌餐會 期待民進黨與台灣基進</td>\n",
       "      <td>12/14</td>\n",
       "    </tr>\n",
       "    <tr>\n",
       "      <th>11</th>\n",
       "      <td>bth060104</td>\n",
       "      <td>[問卦] 在正妹照片底下留言說這張好用會怎樣嗎</td>\n",
       "      <td>12/14</td>\n",
       "    </tr>\n",
       "    <tr>\n",
       "      <th>12</th>\n",
       "      <td>c3035281</td>\n",
       "      <td>[問卦] Fridays的本體是絲襪嗎</td>\n",
       "      <td>12/14</td>\n",
       "    </tr>\n",
       "    <tr>\n",
       "      <th>13</th>\n",
       "      <td>jiouje</td>\n",
       "      <td>[問卦] 監視器 品牌中霸主是？</td>\n",
       "      <td>12/14</td>\n",
       "    </tr>\n",
       "    <tr>\n",
       "      <th>14</th>\n",
       "      <td>qope</td>\n",
       "      <td>[問卦] 你們看到幼童坐在機車上會主動幫忙顧嗎?</td>\n",
       "      <td>12/14</td>\n",
       "    </tr>\n",
       "    <tr>\n",
       "      <th>15</th>\n",
       "      <td>wayne30613</td>\n",
       "      <td>[問卦] 含粉親戚傳這個該怎麼處理？</td>\n",
       "      <td>12/14</td>\n",
       "    </tr>\n",
       "    <tr>\n",
       "      <th>16</th>\n",
       "      <td>yuzukineko</td>\n",
       "      <td>[問卦] 沒洗澡為什麼要吹頭髮？</td>\n",
       "      <td>12/14</td>\n",
       "    </tr>\n",
       "    <tr>\n",
       "      <th>17</th>\n",
       "      <td>rockon15</td>\n",
       "      <td>Re: [新聞] 民進黨稱「高雄人對不起台灣」 蔡英文也曾</td>\n",
       "      <td>12/14</td>\n",
       "    </tr>\n",
       "    <tr>\n",
       "      <th>18</th>\n",
       "      <td>davidex</td>\n",
       "      <td>[問卦] 南門中繼市場設計很奇葩的八卦??</td>\n",
       "      <td>12/14</td>\n",
       "    </tr>\n",
       "    <tr>\n",
       "      <th>19</th>\n",
       "      <td>arsonlolita</td>\n",
       "      <td>[公告] 八卦板板規(2019.08.21)</td>\n",
       "      <td>8/21</td>\n",
       "    </tr>\n",
       "    <tr>\n",
       "      <th>20</th>\n",
       "      <td>witty</td>\n",
       "      <td>[協尋] 11/20高市大順一路548號順明街行車記錄</td>\n",
       "      <td>11/24</td>\n",
       "    </tr>\n",
       "    <tr>\n",
       "      <th>21</th>\n",
       "      <td>Amybook</td>\n",
       "      <td>協尋12/6台中市向上路往精科五路行車記錄器</td>\n",
       "      <td>12/08</td>\n",
       "    </tr>\n",
       "    <tr>\n",
       "      <th>22</th>\n",
       "      <td>Bignana</td>\n",
       "      <td>[公告] 一劍無悔，十二月置底閒聊文</td>\n",
       "      <td>12/02</td>\n",
       "    </tr>\n",
       "    <tr>\n",
       "      <th>23</th>\n",
       "      <td>ianian23</td>\n",
       "      <td>協詢12/12 新北三重大智路與忠孝路口行車記錄器</td>\n",
       "      <td>12/12</td>\n",
       "    </tr>\n",
       "  </tbody>\n",
       "</table>\n",
       "</div>"
      ],
      "text/plain": [
       "          author                          title   date\n",
       "0        otoboku              [問卦] 台灣人怎麼會想過耶誕節？  12/14\n",
       "1   foreverthink  Re: [新聞] 民進黨稱「高雄人對不起台灣」 蔡英文也曾  12/14\n",
       "2       q2203649            [問卦] 大家會覺得自己對不起老師嗎？  12/14\n",
       "3     GOD5566GOD             [問卦] 當兵幾點起來折棉被才專業?  12/14\n",
       "4      fanecerce                   [問卦] 這鬼東西叫甚麼  12/14\n",
       "5      mithralin     [新聞] 厄齊爾控中國迫害維吾爾 兵工廠仿NBA火箭  12/14\n",
       "6         lauwei               [問卦] 吃飯幫大家剝蝦錯了嗎？  12/14\n",
       "7      gaiaesque   [問卦] 有肥宅在聽deep house嗎? o'_'o  12/14\n",
       "8      andrewkuo       [問卦] 有網軍在做圖片時,都不事先球證的卦嗎?  12/14\n",
       "9     iamhyaline                    [問卦] 這是哪個教堂  12/14\n",
       "10      akuan413       [新聞]林靜儀出席爆桌餐會 期待民進黨與台灣基進  12/14\n",
       "11     bth060104        [問卦] 在正妹照片底下留言說這張好用會怎樣嗎  12/14\n",
       "12      c3035281            [問卦] Fridays的本體是絲襪嗎  12/14\n",
       "13        jiouje               [問卦] 監視器 品牌中霸主是？  12/14\n",
       "14          qope       [問卦] 你們看到幼童坐在機車上會主動幫忙顧嗎?  12/14\n",
       "15    wayne30613             [問卦] 含粉親戚傳這個該怎麼處理？  12/14\n",
       "16    yuzukineko               [問卦] 沒洗澡為什麼要吹頭髮？  12/14\n",
       "17      rockon15  Re: [新聞] 民進黨稱「高雄人對不起台灣」 蔡英文也曾  12/14\n",
       "18       davidex          [問卦] 南門中繼市場設計很奇葩的八卦??  12/14\n",
       "19   arsonlolita         [公告] 八卦板板規(2019.08.21)   8/21\n",
       "20         witty    [協尋] 11/20高市大順一路548號順明街行車記錄  11/24\n",
       "21       Amybook         協尋12/6台中市向上路往精科五路行車記錄器  12/08\n",
       "22       Bignana             [公告] 一劍無悔，十二月置底閒聊文  12/02\n",
       "23      ianian23      協詢12/12 新北三重大智路與忠孝路口行車記錄器  12/12"
      ]
     },
     "execution_count": 10,
     "metadata": {},
     "output_type": "execute_result"
    }
   ],
   "source": [
    "gossiping_df = pd.DataFrame({'author': author_list,\n",
    "                             'title': title_list,\n",
    "                             'date': date_list})\n",
    "gossiping_df"
   ]
  },
  {
   "cell_type": "code",
   "execution_count": null,
   "metadata": {},
   "outputs": [],
   "source": []
  },
  {
   "cell_type": "code",
   "execution_count": null,
   "metadata": {},
   "outputs": [],
   "source": []
  }
 ],
 "metadata": {
  "kernelspec": {
   "display_name": "'pyscraper'",
   "language": "python",
   "name": "pyscraper"
  },
  "language_info": {
   "codemirror_mode": {
    "name": "ipython",
    "version": 3
   },
   "file_extension": ".py",
   "mimetype": "text/x-python",
   "name": "python",
   "nbconvert_exporter": "python",
   "pygments_lexer": "ipython3",
   "version": "3.7.3"
  }
 },
 "nbformat": 4,
 "nbformat_minor": 2
}
