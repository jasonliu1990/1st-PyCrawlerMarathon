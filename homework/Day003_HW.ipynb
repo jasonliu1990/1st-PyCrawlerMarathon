{
 "cells": [
  {
   "cell_type": "markdown",
   "metadata": {},
   "source": [
    "# Python 下載XML檔案與解析\n",
    "\n",
    "\n",
    "* 了解 xml 檔案格式與內容\n",
    "* 能夠利用套件存取 xml 格式的檔案\n"
   ]
  },
  {
   "cell_type": "markdown",
   "metadata": {},
   "source": [
    "## 作業目標\n",
    "\n",
    "* 比較一下範例檔案中的「File I/O」與「xmltodict」讀出來的內容有什麼差異\n",
    "\n",
    "* 根據範例檔案的結果：\n",
    "    1. 請問高雄市有多少地區有溫度資料？\n",
    "    2. 請取出每一個地區所記錄的第一個時間點跟溫度\n",
    "    3. 請取出第一個地區所記錄的每一個時間點跟溫度"
   ]
  },
  {
   "cell_type": "code",
   "execution_count": 1,
   "metadata": {},
   "outputs": [],
   "source": [
    "# 下載檔案\n",
    "import urllib.request\n",
    "import zipfile\n",
    "\n",
    "res = \"http://opendata.cwb.gov.tw/govdownload?dataid=F-D0047-093&authorizationkey=rdec-key-123-45678-011121314\"\n",
    "urllib.request.urlretrieve(res, \"./data/example.zip\")\n",
    "f = zipfile.ZipFile('./data/example.zip')\n",
    "f.extractall('./data')"
   ]
  },
  {
   "cell_type": "markdown",
   "metadata": {},
   "source": [
    "### 比較一下範例檔案中的「File I/O」與「xmltodict」讀出來的內容有什麼差異\n"
   ]
  },
  {
   "cell_type": "code",
   "execution_count": null,
   "metadata": {},
   "outputs": [],
   "source": [
    "'''\n",
    "Your Code\n",
    "'''\n",
    "# I/O\n",
    "fh = open(\"./data/64_72hr_CH.xml\", \"r\", encoding='utf-8')\n",
    "xml = fh.read()\n",
    "fh.close()\n",
    "print(xml)\n"
   ]
  },
  {
   "cell_type": "code",
   "execution_count": 3,
   "metadata": {},
   "outputs": [],
   "source": [
    "import xmltodict\n",
    "d = dict(xmltodict.parse(xml))"
   ]
  },
  {
   "cell_type": "markdown",
   "metadata": {},
   "source": [
    "### 根據範例檔案的結果：\n",
    "\n",
    "1. 請問高雄市有多少地區有溫度資料？\n",
    "2. 請取出每一個地區所記錄的第一個時間點跟溫度\n",
    "3. 請取出第一個地區所記錄的每一個時間點跟溫度"
   ]
  },
  {
   "cell_type": "code",
   "execution_count": 4,
   "metadata": {},
   "outputs": [
    {
     "data": {
      "text/plain": [
       "OrderedDict([('dataTime', '2019-12-02T00:00:00+08:00'),\n",
       "             ('elementValue',\n",
       "              OrderedDict([('value', '21'), ('measures', '攝氏度')]))])"
      ]
     },
     "execution_count": 4,
     "metadata": {},
     "output_type": "execute_result"
    }
   ],
   "source": [
    "d['cwbopendata']['dataset']['locations']['location'][0]['weatherElement'][0]['time'][0]"
   ]
  },
  {
   "cell_type": "code",
   "execution_count": 5,
   "metadata": {},
   "outputs": [
    {
     "data": {
      "text/plain": [
       "38"
      ]
     },
     "execution_count": 5,
     "metadata": {},
     "output_type": "execute_result"
    }
   ],
   "source": [
    "# 1. 請問高雄市有多少地區有溫度資料？\n",
    "\n",
    "'''\n",
    "Your Code\n",
    "'''\n",
    "len(d['cwbopendata']['dataset']['locations']['location'])"
   ]
  },
  {
   "cell_type": "code",
   "execution_count": 6,
   "metadata": {},
   "outputs": [
    {
     "data": {
      "text/plain": [
       "'鹽埕區'"
      ]
     },
     "execution_count": 6,
     "metadata": {},
     "output_type": "execute_result"
    }
   ],
   "source": [
    "d['cwbopendata']['dataset']['locations']['location'][0]['locationName']"
   ]
  },
  {
   "cell_type": "code",
   "execution_count": 7,
   "metadata": {},
   "outputs": [
    {
     "name": "stdout",
     "output_type": "stream",
     "text": [
      "鹽埕區 2019-12-02T00:00:00+08:00 21\n",
      "鼓山區 2019-12-02T00:00:00+08:00 21\n",
      "左營區 2019-12-02T00:00:00+08:00 20\n",
      "楠梓區 2019-12-02T00:00:00+08:00 20\n",
      "三民區 2019-12-02T00:00:00+08:00 20\n",
      "新興區 2019-12-02T00:00:00+08:00 21\n",
      "前金區 2019-12-02T00:00:00+08:00 21\n",
      "苓雅區 2019-12-02T00:00:00+08:00 21\n",
      "前鎮區 2019-12-02T00:00:00+08:00 21\n",
      "旗津區 2019-12-02T00:00:00+08:00 21\n",
      "小港區 2019-12-02T00:00:00+08:00 21\n",
      "鳳山區 2019-12-02T00:00:00+08:00 20\n",
      "林園區 2019-12-02T00:00:00+08:00 21\n",
      "大寮區 2019-12-02T00:00:00+08:00 20\n",
      "大樹區 2019-12-02T00:00:00+08:00 18\n",
      "大社區 2019-12-02T00:00:00+08:00 19\n",
      "仁武區 2019-12-02T00:00:00+08:00 19\n",
      "鳥松區 2019-12-02T00:00:00+08:00 19\n",
      "岡山區 2019-12-02T00:00:00+08:00 19\n",
      "橋頭區 2019-12-02T00:00:00+08:00 20\n",
      "燕巢區 2019-12-02T00:00:00+08:00 19\n",
      "田寮區 2019-12-02T00:00:00+08:00 18\n",
      "阿蓮區 2019-12-02T00:00:00+08:00 18\n",
      "路竹區 2019-12-02T00:00:00+08:00 20\n",
      "湖內區 2019-12-02T00:00:00+08:00 20\n",
      "茄萣區 2019-12-02T00:00:00+08:00 20\n",
      "永安區 2019-12-02T00:00:00+08:00 20\n",
      "彌陀區 2019-12-02T00:00:00+08:00 20\n",
      "梓官區 2019-12-02T00:00:00+08:00 19\n",
      "旗山區 2019-12-02T00:00:00+08:00 20\n",
      "美濃區 2019-12-02T00:00:00+08:00 19\n",
      "六龜區 2019-12-02T00:00:00+08:00 20\n",
      "甲仙區 2019-12-02T00:00:00+08:00 17\n",
      "杉林區 2019-12-02T00:00:00+08:00 20\n",
      "內門區 2019-12-02T00:00:00+08:00 18\n",
      "茂林區 2019-12-02T00:00:00+08:00 18\n",
      "桃源區 2019-12-02T00:00:00+08:00 17\n",
      "那瑪夏區 2019-12-02T00:00:00+08:00 16\n"
     ]
    }
   ],
   "source": [
    "# 2. 請取出每一個地區所記錄的第一個時間點跟溫度\n",
    "\n",
    "'''\n",
    "Your Code\n",
    "'''\n",
    "for i in range(len(d['cwbopendata']['dataset']['locations']['location'])):\n",
    "    dist = d['cwbopendata']['dataset']['locations']['location'][i]['locationName']\n",
    "    time = d['cwbopendata']['dataset']['locations']['location'][i]['weatherElement'][0]['time'][0]['dataTime']\n",
    "    temp = d['cwbopendata']['dataset']['locations']['location'][i]['weatherElement'][0]['time'][0]['elementValue']['value']\n",
    "    print(dist, time, temp)"
   ]
  },
  {
   "cell_type": "code",
   "execution_count": 9,
   "metadata": {},
   "outputs": [
    {
     "name": "stdout",
     "output_type": "stream",
     "text": [
      "2019-12-02T00:00:00+08:00 21\n",
      "2019-12-02T03:00:00+08:00 20\n",
      "2019-12-02T06:00:00+08:00 19\n",
      "2019-12-02T09:00:00+08:00 20\n",
      "2019-12-02T12:00:00+08:00 25\n",
      "2019-12-02T15:00:00+08:00 25\n",
      "2019-12-02T18:00:00+08:00 23\n",
      "2019-12-02T21:00:00+08:00 20\n",
      "2019-12-03T00:00:00+08:00 18\n",
      "2019-12-03T03:00:00+08:00 17\n",
      "2019-12-03T06:00:00+08:00 16\n",
      "2019-12-03T09:00:00+08:00 18\n",
      "2019-12-03T12:00:00+08:00 22\n",
      "2019-12-03T15:00:00+08:00 23\n",
      "2019-12-03T18:00:00+08:00 21\n",
      "2019-12-03T21:00:00+08:00 20\n",
      "2019-12-04T00:00:00+08:00 19\n",
      "2019-12-04T03:00:00+08:00 18\n",
      "2019-12-04T06:00:00+08:00 18\n",
      "2019-12-04T09:00:00+08:00 19\n",
      "2019-12-04T12:00:00+08:00 23\n",
      "2019-12-04T15:00:00+08:00 23\n",
      "2019-12-04T18:00:00+08:00 21\n",
      "2019-12-04T21:00:00+08:00 20\n"
     ]
    }
   ],
   "source": [
    "# 3. 請取出第一個地區所記錄的每一個時間點跟溫度\n",
    "\n",
    "'''\n",
    "Your Code\n",
    "'''\n",
    "target = d['cwbopendata']['dataset']['locations']['location'][0]['weatherElement'][0]['time']\n",
    "for i in range(len(target)):\n",
    "    time = target[i]['dataTime']\n",
    "    temp = target[i]['elementValue']['value']\n",
    "    print(time, temp)"
   ]
  }
 ],
 "metadata": {
  "kernelspec": {
   "display_name": "'pyscraper'",
   "language": "python",
   "name": "pyscraper"
  },
  "language_info": {
   "codemirror_mode": {
    "name": "ipython",
    "version": 3
   },
   "file_extension": ".py",
   "mimetype": "text/x-python",
   "name": "python",
   "nbconvert_exporter": "python",
   "pygments_lexer": "ipython3",
   "version": "3.7.3"
  }
 },
 "nbformat": 4,
 "nbformat_minor": 2
}
