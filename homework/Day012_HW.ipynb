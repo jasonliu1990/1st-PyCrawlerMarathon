{
 "cells": [
  {
   "cell_type": "markdown",
   "metadata": {},
   "source": [
    "# Ettoday 網路爬蟲實作練習\n",
    "\n",
    "\n",
    "* 能夠利用 Request + BeatifulSour 撰寫爬蟲，並存放到合適的資料結構\n"
   ]
  },
  {
   "cell_type": "markdown",
   "metadata": {},
   "source": [
    "## 作業目標\n",
    "\n",
    "根據範例 ，完成以下問題：\n",
    "\n",
    "* ① 取出今天所有的發文\n",
    "* ② 如果想要依照類別分類，怎麼儲存會比較好？\n",
    "* ③ 哪一個類別的文章最多\n",
    "\n",
    "\n"
   ]
  },
  {
   "cell_type": "code",
   "execution_count": 1,
   "metadata": {},
   "outputs": [],
   "source": [
    "import requests\n",
    "from bs4 import BeautifulSoup\n",
    "import pandas as pd"
   ]
  },
  {
   "cell_type": "code",
   "execution_count": 2,
   "metadata": {},
   "outputs": [],
   "source": [
    "url = 'https://www.ettoday.net/news/news-list.htm'\n",
    "r = requests.get(url)\n",
    "\n",
    "soup = BeautifulSoup(r.text, \"html.parser\")"
   ]
  },
  {
   "cell_type": "markdown",
   "metadata": {},
   "source": [
    "### ① 取出今天所有的發文"
   ]
  },
  {
   "cell_type": "code",
   "execution_count": 3,
   "metadata": {
    "scrolled": false
   },
   "outputs": [],
   "source": [
    "'''\n",
    "Your Code\n",
    "'''\n",
    "title_list = []\n",
    "time_list = []\n",
    "for d in soup.find(class_=\"part_list_2\").find_all('h3'):\n",
    "    title_list.append(d.find(class_=\"date\").text)\n",
    "    time_list.append(d.find_all('a')[-1].text)\n",
    "cate = soup.select('.tag')\n",
    "cate_list = list(map(lambda x: x.text, cate))\n"
   ]
  },
  {
   "cell_type": "markdown",
   "metadata": {},
   "source": [
    "### ② 如果想要依照類別分類，怎麼儲存會比較好？"
   ]
  },
  {
   "cell_type": "code",
   "execution_count": 4,
   "metadata": {},
   "outputs": [
    {
     "data": {
      "text/html": [
       "<div>\n",
       "<style scoped>\n",
       "    .dataframe tbody tr th:only-of-type {\n",
       "        vertical-align: middle;\n",
       "    }\n",
       "\n",
       "    .dataframe tbody tr th {\n",
       "        vertical-align: top;\n",
       "    }\n",
       "\n",
       "    .dataframe thead th {\n",
       "        text-align: right;\n",
       "    }\n",
       "</style>\n",
       "<table border=\"1\" class=\"dataframe\">\n",
       "  <thead>\n",
       "    <tr style=\"text-align: right;\">\n",
       "      <th></th>\n",
       "      <th>time</th>\n",
       "      <th>cate</th>\n",
       "      <th>title</th>\n",
       "    </tr>\n",
       "  </thead>\n",
       "  <tbody>\n",
       "    <tr>\n",
       "      <th>0</th>\n",
       "      <td>張藝興皇帝造型滿臉落腮鬍！　被嫌「棄劇水準」一對照歷史本尊網懂了</td>\n",
       "      <td>影劇</td>\n",
       "      <td>2019/12/12 23:35</td>\n",
       "    </tr>\n",
       "    <tr>\n",
       "      <th>1</th>\n",
       "      <td>快訊／廈門呂厝路面崩塌！　多車陷入驚悚畫面曝光</td>\n",
       "      <td>大陸</td>\n",
       "      <td>2019/12/12 23:31</td>\n",
       "    </tr>\n",
       "    <tr>\n",
       "      <th>2</th>\n",
       "      <td>好市多「地獄級食品」出爐！媽媽買回家被辣哭…上網狂勸：做好覺悟再買</td>\n",
       "      <td>網搜</td>\n",
       "      <td>2019/12/12 23:29</td>\n",
       "    </tr>\n",
       "    <tr>\n",
       "      <th>3</th>\n",
       "      <td>月經3個月沒來以為懷孕！　39歲媽「卵巢早衰」提早進更年期</td>\n",
       "      <td>健康</td>\n",
       "      <td>2019/12/12 23:23</td>\n",
       "    </tr>\n",
       "    <tr>\n",
       "      <th>4</th>\n",
       "      <td>CBA／林書豪大膽！　拍總教練屁股要他冷靜</td>\n",
       "      <td>體育</td>\n",
       "      <td>2019/12/12 23:21</td>\n",
       "    </tr>\n",
       "  </tbody>\n",
       "</table>\n",
       "</div>"
      ],
      "text/plain": [
       "                                time cate             title\n",
       "0   張藝興皇帝造型滿臉落腮鬍！　被嫌「棄劇水準」一對照歷史本尊網懂了   影劇  2019/12/12 23:35\n",
       "1            快訊／廈門呂厝路面崩塌！　多車陷入驚悚畫面曝光   大陸  2019/12/12 23:31\n",
       "2  好市多「地獄級食品」出爐！媽媽買回家被辣哭…上網狂勸：做好覺悟再買   網搜  2019/12/12 23:29\n",
       "3      月經3個月沒來以為懷孕！　39歲媽「卵巢早衰」提早進更年期   健康  2019/12/12 23:23\n",
       "4              CBA／林書豪大膽！　拍總教練屁股要他冷靜   體育  2019/12/12 23:21"
      ]
     },
     "execution_count": 4,
     "metadata": {},
     "output_type": "execute_result"
    }
   ],
   "source": [
    "'''\n",
    "Your Code\n",
    "'''\n",
    "article = pd.DataFrame({'time': time_list,\n",
    "                        'cate': cate_list,\n",
    "                        'title': title_list})\n",
    "article.head()"
   ]
  },
  {
   "cell_type": "markdown",
   "metadata": {},
   "source": [
    "### ③ 哪一個類別的文章最多"
   ]
  },
  {
   "cell_type": "code",
   "execution_count": 5,
   "metadata": {
    "scrolled": true
   },
   "outputs": [
    {
     "name": "stdout",
     "output_type": "stream",
     "text": [
      "最多: 影劇\n"
     ]
    }
   ],
   "source": [
    "'''\n",
    "Your Code\n",
    "'''\n",
    "cate_count = pd.DataFrame(article.groupby(['cate']).size(), columns=['count'])\n",
    "print(f'最多: {cate_count.sort_values(\"count\", ascending=False).head(1).index[0]}')"
   ]
  }
 ],
 "metadata": {
  "kernelspec": {
   "display_name": "'pyscraper'",
   "language": "python",
   "name": "pyscraper"
  },
  "language_info": {
   "codemirror_mode": {
    "name": "ipython",
    "version": 3
   },
   "file_extension": ".py",
   "mimetype": "text/x-python",
   "name": "python",
   "nbconvert_exporter": "python",
   "pygments_lexer": "ipython3",
   "version": "3.7.3"
  }
 },
 "nbformat": 4,
 "nbformat_minor": 2
}
